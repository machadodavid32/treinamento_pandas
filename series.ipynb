{
 "cells": [
  {
   "cell_type": "code",
   "execution_count": null,
   "id": "6ea1da92",
   "metadata": {},
   "outputs": [],
   "source": [
    "import pandas as pd\n",
    "# Series é uma função que coloca os dados em series linha a linha,"
   ]
  },
  {
   "cell_type": "code",
   "execution_count": 4,
   "id": "8626753f",
   "metadata": {},
   "outputs": [
    {
     "data": {
      "text/plain": [
       "0    10\n",
       "1    20\n",
       "2    30\n",
       "3    40\n",
       "4    50\n",
       "dtype: int64"
      ]
     },
     "execution_count": 4,
     "metadata": {},
     "output_type": "execute_result"
    }
   ],
   "source": [
    "dados = [10, 20, 30, 40, 50]\n",
    "serie = pd.Series(dados)\n",
    "serie"
   ]
  },
  {
   "cell_type": "code",
   "execution_count": 6,
   "id": "ad6ce659",
   "metadata": {},
   "outputs": [
    {
     "data": {
      "text/plain": [
       "jan      2000\n",
       "fev      2500\n",
       "mar      3000\n",
       "abril    2800\n",
       "mai      3500\n",
       "jun      4000\n",
       "jul      4500\n",
       "ago       500\n",
       "set      4800\n",
       "out      5200\n",
       "nov      6000\n",
       "dez      7000\n",
       "dtype: int64"
      ]
     },
     "execution_count": 6,
     "metadata": {},
     "output_type": "execute_result"
    }
   ],
   "source": [
    "# Criando uma Series com dados de vendas mensais\n",
    "vendas_mensais = pd.Series([2000, 2500, 3000, 2800, 3500, 4000, 4500, 500, 4800, 5200, 6000, 7000 ],\n",
    "                           index=['jan', 'fev', 'mar', 'abril', 'mai', 'jun', 'jul', 'ago', 'set', 'out', 'nov', 'dez'])\n",
    "vendas_mensais"
   ]
  },
  {
   "cell_type": "code",
   "execution_count": 7,
   "id": "470fa569",
   "metadata": {},
   "outputs": [
    {
     "data": {
      "text/plain": [
       "np.float64(3816.6666666666665)"
      ]
     },
     "execution_count": 7,
     "metadata": {},
     "output_type": "execute_result"
    }
   ],
   "source": [
    "# calcular e exibir as medias de vendas\n",
    "media_vendas = vendas_mensais.mean()\n",
    "media_vendas"
   ]
  },
  {
   "cell_type": "code",
   "execution_count": 8,
   "id": "86896c34",
   "metadata": {},
   "outputs": [
    {
     "data": {
      "text/plain": [
       "'dez'"
      ]
     },
     "execution_count": 8,
     "metadata": {},
     "output_type": "execute_result"
    }
   ],
   "source": [
    "# Identificando o mês com mais vendas\n",
    "mes_maior_vendas = vendas_mensais.idxmax()\n",
    "mes_maior_vendas"
   ]
  },
  {
   "cell_type": "code",
   "execution_count": 9,
   "id": "3c9d593d",
   "metadata": {},
   "outputs": [
    {
     "data": {
      "text/plain": [
       "jun    4000\n",
       "jul    4500\n",
       "set    4800\n",
       "out    5200\n",
       "nov    6000\n",
       "dez    7000\n",
       "dtype: int64"
      ]
     },
     "execution_count": 9,
     "metadata": {},
     "output_type": "execute_result"
    }
   ],
   "source": [
    "# Exibir as vendas acima da média\n",
    "vendas_acima_media = vendas_mensais[vendas_mensais > media_vendas]\n",
    "vendas_acima_media"
   ]
  }
 ],
 "metadata": {
  "kernelspec": {
   "display_name": "meu_ambiente",
   "language": "python",
   "name": "python3"
  },
  "language_info": {
   "codemirror_mode": {
    "name": "ipython",
    "version": 3
   },
   "file_extension": ".py",
   "mimetype": "text/x-python",
   "name": "python",
   "nbconvert_exporter": "python",
   "pygments_lexer": "ipython3",
   "version": "3.12.3"
  }
 },
 "nbformat": 4,
 "nbformat_minor": 5
}
